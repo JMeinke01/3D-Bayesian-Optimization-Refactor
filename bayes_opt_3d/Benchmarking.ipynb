{
 "cells": [
  {
   "cell_type": "code",
   "execution_count": 1,
   "id": "77fe2c6b-3e50-4d2a-974d-30b27c9fea06",
   "metadata": {},
   "outputs": [
    {
     "name": "stdout",
     "output_type": "stream",
     "text": [
      "(-2.0556423689449357, 109)\n"
     ]
    }
   ],
   "source": [
    "include(\"refactored_bo_3d.jl\")"
   ]
  },
  {
   "cell_type": "code",
   "execution_count": 2,
   "id": "e5a573be-81cb-422f-8d7e-5b15fb4854f5",
   "metadata": {},
   "outputs": [],
   "source": [
    "using BenchmarkTools"
   ]
  },
  {
   "cell_type": "code",
   "execution_count": 3,
   "id": "1d246db9-6e72-4f54-86b9-7156f78291c9",
   "metadata": {},
   "outputs": [
    {
     "data": {
      "text/plain": [
       "200"
      ]
     },
     "execution_count": 3,
     "metadata": {},
     "output_type": "execute_result"
    }
   ],
   "source": [
    "x = range(-10, 10, length = 100)\n",
    "y = range(-10, 10, length = 100)\n",
    "X = repeat(x, inner = length(y))\n",
    "Y = repeat(y, outer = length(x))\n",
    "XY = hcat(X,Y)\n",
    "θ = [10.0, 1.0] # Hyperparameters in the form of (σ, ℓ) or (σ, ℓ, p)\n",
    "rbf = squared_exponential(θ)\n",
    "num_init_samples = 10\n",
    "BUDGET = 200"
   ]
  },
  {
   "cell_type": "code",
   "execution_count": 4,
   "id": "e31f16c9-42c1-4608-afc8-4bc40e9359bd",
   "metadata": {},
   "outputs": [
    {
     "ename": "LoadError",
     "evalue": "UndefVarError: `eval_KXX` not defined in `Main`\nSuggestion: check for spelling errors or missing imports.",
     "output_type": "error",
     "traceback": [
      "UndefVarError: `eval_KXX` not defined in `Main`\nSuggestion: check for spelling errors or missing imports.",
      "",
      "Stacktrace:",
      "  [1] \u001b[0m\u001b[1mvar\"##core#231\"\u001b[22m\u001b[0m\u001b[1m(\u001b[22m\u001b[0m\u001b[1m)\u001b[22m",
      "\u001b[90m    @\u001b[39m \u001b[35mMain\u001b[39m \u001b[90mC:\\Users\\peter\\.julia\\packages\\BenchmarkTools\\1i1mY\\src\\\u001b[39m\u001b[90m\u001b[4mexecution.jl:598\u001b[24m\u001b[39m",
      "  [2] \u001b[0m\u001b[1mvar\"##sample#232\"\u001b[22m\u001b[0m\u001b[1m(\u001b[22m::\u001b[0mTuple\u001b[90m{}\u001b[39m, \u001b[90m__params\u001b[39m::\u001b[0mBenchmarkTools.Parameters\u001b[0m\u001b[1m)\u001b[22m",
      "\u001b[90m    @\u001b[39m \u001b[35mMain\u001b[39m \u001b[90mC:\\Users\\peter\\.julia\\packages\\BenchmarkTools\\1i1mY\\src\\\u001b[39m\u001b[90m\u001b[4mexecution.jl:607\u001b[24m\u001b[39m",
      "  [3] \u001b[0m\u001b[1m_lineartrial\u001b[22m\u001b[0m\u001b[1m(\u001b[22m\u001b[90mb\u001b[39m::\u001b[0mBenchmarkTools.Benchmark, \u001b[90mp\u001b[39m::\u001b[0mBenchmarkTools.Parameters; \u001b[90mmaxevals\u001b[39m::\u001b[0mInt64, \u001b[90mkwargs\u001b[39m::\u001b[0m@Kwargs\u001b[90m{}\u001b[39m\u001b[0m\u001b[1m)\u001b[22m",
      "\u001b[90m    @\u001b[39m \u001b[36mBenchmarkTools\u001b[39m \u001b[90mC:\\Users\\peter\\.julia\\packages\\BenchmarkTools\\1i1mY\\src\\\u001b[39m\u001b[90m\u001b[4mexecution.jl:186\u001b[24m\u001b[39m",
      "  [4] \u001b[0m\u001b[1m_lineartrial\u001b[22m\u001b[0m\u001b[1m(\u001b[22m\u001b[90mb\u001b[39m::\u001b[0mBenchmarkTools.Benchmark, \u001b[90mp\u001b[39m::\u001b[0mBenchmarkTools.Parameters\u001b[0m\u001b[1m)\u001b[22m",
      "\u001b[90m    @\u001b[39m \u001b[36mBenchmarkTools\u001b[39m \u001b[90mC:\\Users\\peter\\.julia\\packages\\BenchmarkTools\\1i1mY\\src\\\u001b[39m\u001b[90m\u001b[4mexecution.jl:181\u001b[24m\u001b[39m",
      "  [5] \u001b[0m\u001b[1m#invokelatest#2\u001b[22m",
      "\u001b[90m    @\u001b[39m \u001b[90m.\\\u001b[39m\u001b[90m\u001b[4messentials.jl:1055\u001b[24m\u001b[39m\u001b[90m [inlined]\u001b[39m",
      "  [6] \u001b[0m\u001b[1minvokelatest\u001b[22m",
      "\u001b[90m    @\u001b[39m \u001b[90m.\\\u001b[39m\u001b[90m\u001b[4messentials.jl:1052\u001b[24m\u001b[39m\u001b[90m [inlined]\u001b[39m",
      "  [7] \u001b[0m\u001b[1m#lineartrial#46\u001b[22m",
      "\u001b[90m    @\u001b[39m \u001b[90mC:\\Users\\peter\\.julia\\packages\\BenchmarkTools\\1i1mY\\src\\\u001b[39m\u001b[90m\u001b[4mexecution.jl:51\u001b[24m\u001b[39m\u001b[90m [inlined]\u001b[39m",
      "  [8] \u001b[0m\u001b[1mlineartrial\u001b[22m",
      "\u001b[90m    @\u001b[39m \u001b[90mC:\\Users\\peter\\.julia\\packages\\BenchmarkTools\\1i1mY\\src\\\u001b[39m\u001b[90m\u001b[4mexecution.jl:50\u001b[24m\u001b[39m\u001b[90m [inlined]\u001b[39m",
      "  [9] \u001b[0m\u001b[1mtune!\u001b[22m\u001b[0m\u001b[1m(\u001b[22m\u001b[90mb\u001b[39m::\u001b[0mBenchmarkTools.Benchmark, \u001b[90mp\u001b[39m::\u001b[0mBenchmarkTools.Parameters; \u001b[90mprogressid\u001b[39m::\u001b[0mNothing, \u001b[90mnleaves\u001b[39m::\u001b[0mFloat64, \u001b[90mndone\u001b[39m::\u001b[0mFloat64, \u001b[90mverbose\u001b[39m::\u001b[0mBool, \u001b[90mpad\u001b[39m::\u001b[0mString, \u001b[90mkwargs\u001b[39m::\u001b[0m@Kwargs\u001b[90m{}\u001b[39m\u001b[0m\u001b[1m)\u001b[22m",
      "\u001b[90m    @\u001b[39m \u001b[36mBenchmarkTools\u001b[39m \u001b[90mC:\\Users\\peter\\.julia\\packages\\BenchmarkTools\\1i1mY\\src\\\u001b[39m\u001b[90m\u001b[4mexecution.jl:299\u001b[24m\u001b[39m",
      " [10] \u001b[0m\u001b[1mtune!\u001b[22m",
      "\u001b[90m    @\u001b[39m \u001b[90mC:\\Users\\peter\\.julia\\packages\\BenchmarkTools\\1i1mY\\src\\\u001b[39m\u001b[90m\u001b[4mexecution.jl:288\u001b[24m\u001b[39m\u001b[90m [inlined]\u001b[39m",
      " [11] \u001b[0m\u001b[1mtune!\u001b[22m\u001b[0m\u001b[1m(\u001b[22m\u001b[90mb\u001b[39m::\u001b[0mBenchmarkTools.Benchmark\u001b[0m\u001b[1m)\u001b[22m",
      "\u001b[90m    @\u001b[39m \u001b[36mBenchmarkTools\u001b[39m \u001b[90mC:\\Users\\peter\\.julia\\packages\\BenchmarkTools\\1i1mY\\src\\\u001b[39m\u001b[90m\u001b[4mexecution.jl:288\u001b[24m\u001b[39m",
      " [12] top-level scope",
      "\u001b[90m    @\u001b[39m \u001b[90mC:\\Users\\peter\\.julia\\packages\\BenchmarkTools\\1i1mY\\src\\\u001b[39m\u001b[90m\u001b[4mexecution.jl:461\u001b[24m\u001b[39m"
     ]
    }
   ],
   "source": [
    "@benchmark eval_KXX(rbf, XY, 1e-6)"
   ]
  },
  {
   "cell_type": "code",
   "execution_count": 4,
   "id": "f2931285-d851-49e0-a6d0-3ca7b7b88f69",
   "metadata": {},
   "outputs": [
    {
     "data": {
      "text/plain": [
       "10×3 Matrix{Float64}:\n",
       " -6.36364    9.19192  -1.03566\n",
       " -6.76768    4.34343  -1.5688\n",
       " -0.505051   2.92929  -1.59475\n",
       "  6.9697     5.9596   -1.40156\n",
       "  8.38384    7.57576  -1.5088\n",
       " -8.9899    -6.76768  -1.30817\n",
       "  1.51515   10.0      -1.50183\n",
       "  6.76768    0.10101  -1.30784\n",
       " -2.92929    5.15152  -1.54547\n",
       " -6.36364   -1.11111  -1.37844"
      ]
     },
     "execution_count": 4,
     "metadata": {},
     "output_type": "execute_result"
    }
   ],
   "source": [
    "opt, f = cross_in_tray(X, Y)\n",
    "num_init_samples = 10 # Initial samples\n",
    "σ = 1e-6 # Noise variable\n",
    "𝒟 = rand_sample(XY, num_init_samples, f, σ)"
   ]
  },
  {
   "cell_type": "code",
   "execution_count": 26,
   "id": "3e806fc9-6a7a-4c66-aad9-ba9b1d585372",
   "metadata": {},
   "outputs": [
    {
     "data": {
      "text/plain": [
       "BenchmarkTools.Trial: 10000 samples with 1 evaluation per sample.\n",
       " Range \u001b[90m(\u001b[39m\u001b[36m\u001b[1mmin\u001b[22m\u001b[39m … \u001b[35mmax\u001b[39m\u001b[90m):  \u001b[39m\u001b[36m\u001b[1m11.700 μs\u001b[22m\u001b[39m … \u001b[35m 21.718 ms\u001b[39m  \u001b[90m┊\u001b[39m GC \u001b[90m(\u001b[39mmin … max\u001b[90m): \u001b[39m 0.00% … 99.53%\n",
       " Time  \u001b[90m(\u001b[39m\u001b[34m\u001b[1mmedian\u001b[22m\u001b[39m\u001b[90m):     \u001b[39m\u001b[34m\u001b[1m15.300 μs               \u001b[22m\u001b[39m\u001b[90m┊\u001b[39m GC \u001b[90m(\u001b[39mmedian\u001b[90m):    \u001b[39m 0.00%\n",
       " Time  \u001b[90m(\u001b[39m\u001b[32m\u001b[1mmean\u001b[22m\u001b[39m ± \u001b[32mσ\u001b[39m\u001b[90m):   \u001b[39m\u001b[32m\u001b[1m52.506 μs\u001b[22m\u001b[39m ± \u001b[32m441.786 μs\u001b[39m  \u001b[90m┊\u001b[39m GC \u001b[90m(\u001b[39mmean ± σ\u001b[90m):  \u001b[39m34.48% ±  7.15%\n",
       "\n",
       "  \u001b[39m█\u001b[34m▇\u001b[39m\u001b[39m▅\u001b[39m▃\u001b[39m▁\u001b[39m▁\u001b[39m▁\u001b[39m▁\u001b[39m▁\u001b[39m \u001b[39m \u001b[39m \u001b[39m \u001b[39m \u001b[32m \u001b[39m\u001b[39m \u001b[39m \u001b[39m▂\u001b[39m▄\u001b[39m▂\u001b[39m▁\u001b[39m▁\u001b[39m▂\u001b[39m▃\u001b[39m▃\u001b[39m▂\u001b[39m▁\u001b[39m▁\u001b[39m▁\u001b[39m▁\u001b[39m \u001b[39m \u001b[39m \u001b[39m \u001b[39m \u001b[39m \u001b[39m \u001b[39m \u001b[39m \u001b[39m \u001b[39m \u001b[39m \u001b[39m \u001b[39m \u001b[39m \u001b[39m \u001b[39m \u001b[39m \u001b[39m \u001b[39m \u001b[39m \u001b[39m \u001b[39m \u001b[39m \u001b[39m \u001b[39m \u001b[39m \u001b[39m \u001b[39m \u001b[39m \u001b[39m \u001b[39m▁\n",
       "  \u001b[39m█\u001b[34m█\u001b[39m\u001b[39m█\u001b[39m█\u001b[39m█\u001b[39m█\u001b[39m█\u001b[39m█\u001b[39m█\u001b[39m▇\u001b[39m▆\u001b[39m▄\u001b[39m▅\u001b[39m▅\u001b[32m▄\u001b[39m\u001b[39m▄\u001b[39m▅\u001b[39m█\u001b[39m█\u001b[39m█\u001b[39m█\u001b[39m█\u001b[39m█\u001b[39m█\u001b[39m█\u001b[39m█\u001b[39m█\u001b[39m█\u001b[39m█\u001b[39m█\u001b[39m█\u001b[39m█\u001b[39m█\u001b[39m█\u001b[39m▇\u001b[39m▇\u001b[39m▇\u001b[39m▆\u001b[39m▆\u001b[39m▆\u001b[39m▆\u001b[39m▅\u001b[39m▆\u001b[39m▅\u001b[39m▆\u001b[39m▅\u001b[39m▅\u001b[39m▆\u001b[39m▄\u001b[39m▄\u001b[39m▅\u001b[39m▅\u001b[39m▅\u001b[39m▄\u001b[39m▄\u001b[39m▄\u001b[39m▄\u001b[39m▅\u001b[39m▄\u001b[39m▄\u001b[39m \u001b[39m█\n",
       "  11.7 μs\u001b[90m       \u001b[39m\u001b[90mHistogram: \u001b[39m\u001b[90m\u001b[1mlog(\u001b[22m\u001b[39m\u001b[90mfrequency\u001b[39m\u001b[90m\u001b[1m)\u001b[22m\u001b[39m\u001b[90m by time\u001b[39m       186 μs \u001b[0m\u001b[1m<\u001b[22m\n",
       "\n",
       " Memory estimate\u001b[90m: \u001b[39m\u001b[33m312.88 KiB\u001b[39m, allocs estimate\u001b[90m: \u001b[39m\u001b[33m7\u001b[39m."
      ]
     },
     "execution_count": 26,
     "metadata": {},
     "output_type": "execute_result"
    }
   ],
   "source": [
    "@benchmark eval_kxx(rbf, 𝒟[:, 1:2], 200, 1e-6)"
   ]
  },
  {
   "cell_type": "code",
   "execution_count": 27,
   "id": "3628dfa8-723b-4ffa-a503-874bc3906313",
   "metadata": {},
   "outputs": [
    {
     "data": {
      "text/plain": [
       "BenchmarkTools.Trial: 724 samples with 1 evaluation per sample.\n",
       " Range \u001b[90m(\u001b[39m\u001b[36m\u001b[1mmin\u001b[22m\u001b[39m … \u001b[35mmax\u001b[39m\u001b[90m):  \u001b[39m\u001b[36m\u001b[1m4.400 ms\u001b[22m\u001b[39m … \u001b[35m30.118 ms\u001b[39m  \u001b[90m┊\u001b[39m GC \u001b[90m(\u001b[39mmin … max\u001b[90m): \u001b[39m 0.00% … 75.52%\n",
       " Time  \u001b[90m(\u001b[39m\u001b[34m\u001b[1mmedian\u001b[22m\u001b[39m\u001b[90m):     \u001b[39m\u001b[34m\u001b[1m7.023 ms              \u001b[22m\u001b[39m\u001b[90m┊\u001b[39m GC \u001b[90m(\u001b[39mmedian\u001b[90m):    \u001b[39m 0.00%\n",
       " Time  \u001b[90m(\u001b[39m\u001b[32m\u001b[1mmean\u001b[22m\u001b[39m ± \u001b[32mσ\u001b[39m\u001b[90m):   \u001b[39m\u001b[32m\u001b[1m6.892 ms\u001b[22m\u001b[39m ± \u001b[32m 2.471 ms\u001b[39m  \u001b[90m┊\u001b[39m GC \u001b[90m(\u001b[39mmean ± σ\u001b[90m):  \u001b[39m20.92% ± 18.60%\n",
       "\n",
       "  \u001b[39m█\u001b[39m▅\u001b[39m▂\u001b[39m \u001b[39m \u001b[39m \u001b[39m \u001b[39m \u001b[39m \u001b[39m \u001b[39m \u001b[39m \u001b[39m \u001b[39m \u001b[34m \u001b[39m\u001b[39m▃\u001b[39m \u001b[39m \u001b[39m \u001b[39m \u001b[39m \u001b[39m \u001b[39m \u001b[39m \u001b[39m \u001b[39m \u001b[39m \u001b[39m \u001b[39m \u001b[39m \u001b[39m \u001b[39m \u001b[39m \u001b[39m \u001b[39m \u001b[39m \u001b[39m \u001b[39m \u001b[39m \u001b[39m \u001b[39m \u001b[39m \u001b[39m \u001b[39m \u001b[39m \u001b[39m \u001b[39m \u001b[39m \u001b[39m \u001b[39m \u001b[39m \u001b[39m \u001b[39m \u001b[39m \u001b[39m \u001b[39m \u001b[39m \u001b[39m \u001b[39m \u001b[39m \n",
       "  \u001b[39m█\u001b[39m█\u001b[39m█\u001b[39m▇\u001b[39m▄\u001b[39m▄\u001b[39m▅\u001b[39m▄\u001b[39m▄\u001b[39m▄\u001b[39m▃\u001b[39m▂\u001b[39m▁\u001b[39m▃\u001b[34m▆\u001b[39m\u001b[39m█\u001b[39m▆\u001b[39m▇\u001b[39m▅\u001b[39m▆\u001b[39m▅\u001b[39m▅\u001b[39m▅\u001b[39m▃\u001b[39m▄\u001b[39m▄\u001b[39m▃\u001b[39m▃\u001b[39m▃\u001b[39m▃\u001b[39m▃\u001b[39m▂\u001b[39m▂\u001b[39m▂\u001b[39m▂\u001b[39m▂\u001b[39m▁\u001b[39m▃\u001b[39m▂\u001b[39m▃\u001b[39m▂\u001b[39m▂\u001b[39m▁\u001b[39m▂\u001b[39m▂\u001b[39m▂\u001b[39m▂\u001b[39m▁\u001b[39m▂\u001b[39m▁\u001b[39m▂\u001b[39m▂\u001b[39m▂\u001b[39m▁\u001b[39m▂\u001b[39m▂\u001b[39m▁\u001b[39m▂\u001b[39m \u001b[39m▃\n",
       "  4.4 ms\u001b[90m         Histogram: frequency by time\u001b[39m          15 ms \u001b[0m\u001b[1m<\u001b[22m\n",
       "\n",
       " Memory estimate\u001b[90m: \u001b[39m\u001b[33m15.26 MiB\u001b[39m, allocs estimate\u001b[90m: \u001b[39m\u001b[33m7\u001b[39m."
      ]
     },
     "execution_count": 27,
     "metadata": {},
     "output_type": "execute_result"
    }
   ],
   "source": [
    "@benchmark eval_KxX(rbf, 𝒟[:, 1:2], XY, 200)"
   ]
  },
  {
   "cell_type": "code",
   "execution_count": 69,
   "id": "930a9947-5a8b-4a85-8cf8-a4c7410f812d",
   "metadata": {},
   "outputs": [
    {
     "name": "stdout",
     "output_type": "stream",
     "text": [
      "(-2.032559795799709, 132)\n",
      "(-2.0592181446514584, 29)\n",
      "(-2.0592181446514584, 129)\n"
     ]
    },
    {
     "data": {
      "text/plain": [
       "BenchmarkTools.Trial: 1 sample with 1 evaluation per sample.\n",
       " Single result which took \u001b[34m5.759 s\u001b[39m (9.57% GC) to evaluate,\n",
       " with a memory estimate of \u001b[33m2.44 GiB\u001b[39m, over \u001b[33m11106\u001b[39m allocations."
      ]
     },
     "execution_count": 69,
     "metadata": {},
     "output_type": "execute_result"
    }
   ],
   "source": [
    "@benchmark main()"
   ]
  },
  {
   "cell_type": "code",
   "execution_count": 5,
   "id": "de4d026d-d6e0-4e60-8c60-e2db469eacd4",
   "metadata": {},
   "outputs": [
    {
     "data": {
      "text/plain": [
       "GaussianProcess{var\"#m#9\", typeof(squared_exponential_κ), Matrix{Float64}}(var\"#m#9\"(), Main.squared_exponential_κ, [100.000001 97.98007140447176 … 1.066768466969628e-170 1.9151695967140056e-172; 97.98007140447176 100.000001 … 5.704382041783347e-169 1.066768466969628e-170; … ; 1.066768466969628e-170 5.704382041783347e-169 … 100.000001 97.98007140447176; 1.9151695967140056e-172 1.066768466969628e-170 … 97.98007140447176 100.000001], [100.000001 0.000724262399455 … 0.0 0.0; 0.000724262399455 100.000001 … 0.0 0.0; … ; 0.0 0.0 … 0.0 0.0; 0.0 0.0 … 0.0 0.0], [1.4022966208023336e-81 6.634448564912398e-80 … 5.957007376150902e-57 5.164073312841352e-57; 1.1393845513696354e-45 2.0241716985444464e-44 … 3.071792210234945e-66 9.999267201175847e-67; … ; 0.0 0.0 … 0.0 0.0; 0.0 0.0 … 0.0 0.0])"
      ]
     },
     "execution_count": 5,
     "metadata": {},
     "output_type": "execute_result"
    }
   ],
   "source": [
    "begin\n",
    "    Κ_ss = eval_KXX(rbf, XY, 1e-6)\n",
    "    Κ_xx = eval_kxx(rbf, 𝒟[:, 1:2], 200, 1e-6)\n",
    "    Κ_xs = eval_KxX(rbf, 𝒟[:, 1:2], XY, 200)\n",
    "    μ_pri = mean_zero()\n",
    "    GP = GaussianProcess(μ_pri, rbf.kernel, Κ_ss, Κ_xx, Κ_xs)\n",
    "end"
   ]
  },
  {
   "cell_type": "code",
   "execution_count": 8,
   "id": "97901333-06aa-4210-8209-79d0daf87442",
   "metadata": {},
   "outputs": [
    {
     "data": {
      "text/plain": [
       "main_loop (generic function with 1 method)"
      ]
     },
     "execution_count": 8,
     "metadata": {},
     "output_type": "execute_result"
    }
   ],
   "source": [
    "function main_loop(GP, 𝒟, XY, f, σ)\n",
    "    for i in num_init_samples : BUDGET\n",
    "        exp_imp, μ_post = expected_improvement(GP, 𝒟, XY)\n",
    "        𝒟 = best_sampling_point(exp_imp, XY, 𝒟, f, σ)\n",
    "        if i != BUDGET\n",
    "            GP.Κ_xx = update_KXX!(rbf, GP.Κ_xx, i, 𝒟[:, 1:2], 1e-6)\n",
    "            GP.Κ_xs = update_kxX!(rbf, GP.Κ_xs, i, 𝒟[:, 1:2], XY)\n",
    "        end\n",
    "    end\n",
    "end"
   ]
  },
  {
   "cell_type": "code",
   "execution_count": 9,
   "id": "8f1c0475-517f-4275-985c-4038eb955765",
   "metadata": {},
   "outputs": [
    {
     "data": {
      "text/plain": [
       "BenchmarkTools.Trial: 2 samples with 1 evaluation per sample.\n",
       " Range \u001b[90m(\u001b[39m\u001b[36m\u001b[1mmin\u001b[22m\u001b[39m … \u001b[35mmax\u001b[39m\u001b[90m):  \u001b[39m\u001b[36m\u001b[1m2.831 s\u001b[22m\u001b[39m … \u001b[35m   3.272 s\u001b[39m  \u001b[90m┊\u001b[39m GC \u001b[90m(\u001b[39mmin … max\u001b[90m): \u001b[39m4.38% … 5.10%\n",
       " Time  \u001b[90m(\u001b[39m\u001b[34m\u001b[1mmedian\u001b[22m\u001b[39m\u001b[90m):     \u001b[39m\u001b[34m\u001b[1m3.052 s               \u001b[22m\u001b[39m\u001b[90m┊\u001b[39m GC \u001b[90m(\u001b[39mmedian\u001b[90m):    \u001b[39m4.76%\n",
       " Time  \u001b[90m(\u001b[39m\u001b[32m\u001b[1mmean\u001b[22m\u001b[39m ± \u001b[32mσ\u001b[39m\u001b[90m):   \u001b[39m\u001b[32m\u001b[1m3.052 s\u001b[22m\u001b[39m ± \u001b[32m311.647 ms\u001b[39m  \u001b[90m┊\u001b[39m GC \u001b[90m(\u001b[39mmean ± σ\u001b[90m):  \u001b[39m4.76% ± 0.51%\n",
       "\n",
       "  \u001b[34m█\u001b[39m\u001b[39m \u001b[39m \u001b[39m \u001b[39m \u001b[39m \u001b[39m \u001b[39m \u001b[39m \u001b[39m \u001b[39m \u001b[39m \u001b[39m \u001b[39m \u001b[39m \u001b[39m \u001b[39m \u001b[39m \u001b[39m \u001b[39m \u001b[39m \u001b[39m \u001b[39m \u001b[39m \u001b[39m \u001b[39m \u001b[39m \u001b[39m \u001b[39m \u001b[32m \u001b[39m\u001b[39m \u001b[39m \u001b[39m \u001b[39m \u001b[39m \u001b[39m \u001b[39m \u001b[39m \u001b[39m \u001b[39m \u001b[39m \u001b[39m \u001b[39m \u001b[39m \u001b[39m \u001b[39m \u001b[39m \u001b[39m \u001b[39m \u001b[39m \u001b[39m \u001b[39m \u001b[39m \u001b[39m \u001b[39m \u001b[39m \u001b[39m \u001b[39m█\u001b[39m \u001b[39m \n",
       "  \u001b[34m█\u001b[39m\u001b[39m▁\u001b[39m▁\u001b[39m▁\u001b[39m▁\u001b[39m▁\u001b[39m▁\u001b[39m▁\u001b[39m▁\u001b[39m▁\u001b[39m▁\u001b[39m▁\u001b[39m▁\u001b[39m▁\u001b[39m▁\u001b[39m▁\u001b[39m▁\u001b[39m▁\u001b[39m▁\u001b[39m▁\u001b[39m▁\u001b[39m▁\u001b[39m▁\u001b[39m▁\u001b[39m▁\u001b[39m▁\u001b[39m▁\u001b[39m▁\u001b[39m▁\u001b[32m▁\u001b[39m\u001b[39m▁\u001b[39m▁\u001b[39m▁\u001b[39m▁\u001b[39m▁\u001b[39m▁\u001b[39m▁\u001b[39m▁\u001b[39m▁\u001b[39m▁\u001b[39m▁\u001b[39m▁\u001b[39m▁\u001b[39m▁\u001b[39m▁\u001b[39m▁\u001b[39m▁\u001b[39m▁\u001b[39m▁\u001b[39m▁\u001b[39m▁\u001b[39m▁\u001b[39m▁\u001b[39m▁\u001b[39m▁\u001b[39m▁\u001b[39m▁\u001b[39m█\u001b[39m \u001b[39m▁\n",
       "  2.83 s\u001b[90m         Histogram: frequency by time\u001b[39m         3.27 s \u001b[0m\u001b[1m<\u001b[22m\n",
       "\n",
       " Memory estimate\u001b[90m: \u001b[39m\u001b[33m1.68 GiB\u001b[39m, allocs estimate\u001b[90m: \u001b[39m\u001b[33m12091\u001b[39m."
      ]
     },
     "execution_count": 9,
     "metadata": {},
     "output_type": "execute_result"
    }
   ],
   "source": [
    "@benchmark main_loop(GP, 𝒟, XY, f, σ)"
   ]
  },
  {
   "cell_type": "code",
   "execution_count": null,
   "id": "2d81e211-dd33-4892-8432-499000a42231",
   "metadata": {},
   "outputs": [],
   "source": []
  }
 ],
 "metadata": {
  "kernelspec": {
   "display_name": "Julia 1.11.5",
   "language": "julia",
   "name": "julia-1.11"
  },
  "language_info": {
   "file_extension": ".jl",
   "mimetype": "application/julia",
   "name": "julia",
   "version": "1.11.5"
  }
 },
 "nbformat": 4,
 "nbformat_minor": 5
}
